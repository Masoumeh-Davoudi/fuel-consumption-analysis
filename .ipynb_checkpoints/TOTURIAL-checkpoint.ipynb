{
 "cells": [
  {
   "cell_type": "markdown",
   "id": "4dc9c05f-05bd-4a24-9c24-b45cc2a9d30e",
   "metadata": {},
   "source": [
    "# Fuel Consumption Analysis\n",
    "\n",
    "**References:**\n",
    "+ https://www.kaggle.com/datasets/krupadharamshi/fuelconsumption\n",
    "+ https://github.com/florence-bockting/python-class-25\n",
    "\n",
    "**Content:**\n",
    "  + Data cleaning\n",
    "     + Finding missing values\n",
    "     + Handling missing values\n",
    "     + Finding duplicate rows\n",
    "     + Removing duplicate rows\n",
    "     + Data cleaning for the real dataset\n",
    "  + Data analysis\n",
    "  + Data visualization"
   ]
  },
  {
   "cell_type": "markdown",
   "id": "9804ba7c-bd34-4b08-a67e-2f8cf07e8529",
   "metadata": {},
   "source": [
    "### Data Cleaning\n",
    "+ **Data cleaning** is the process of identifying and correcting errors and missing values in datasets.\n",
    "+ It ensures the dataset is accurate, reliable, and suitable for analysis.\n",
    "+ It improves data quality and consistency and ensures datasets are complete and structured properly."
   ]
  },
  {
   "cell_type": "markdown",
   "id": "e6eb83ca-553b-4138-b26c-fb30df1e9e4b",
   "metadata": {},
   "source": [
    "#### Finding missing values\n",
    "+ Generate a sample dataset with missing values.\n",
    "+ `import pandas as pd`\n",
    "+ `import numpy as np`\n",
    "+ Use `pd.DataFrame` to create a sample dataset.\n",
    "+ Use `pd.nan` to create the missing values.\n",
    "+ `from fuel-consumption-analysis import DataCleaning`\n",
    "+ Use the `missing_value()` function to count missing values in the dataset.\n",
    "+ We first identify the number of missing values in each column."
   ]
  },
  {
   "cell_type": "code",
   "execution_count": 8,
   "id": "1043e56c-1db2-45fd-bd5b-6b256744d7c0",
   "metadata": {},
   "outputs": [
    {
     "data": {
      "text/html": [
       "<div>\n",
       "<style scoped>\n",
       "    .dataframe tbody tr th:only-of-type {\n",
       "        vertical-align: middle;\n",
       "    }\n",
       "\n",
       "    .dataframe tbody tr th {\n",
       "        vertical-align: top;\n",
       "    }\n",
       "\n",
       "    .dataframe thead th {\n",
       "        text-align: right;\n",
       "    }\n",
       "</style>\n",
       "<table border=\"1\" class=\"dataframe\">\n",
       "  <thead>\n",
       "    <tr style=\"text-align: right;\">\n",
       "      <th></th>\n",
       "      <th>Name</th>\n",
       "      <th>Age</th>\n",
       "      <th>Salary</th>\n",
       "      <th>Department</th>\n",
       "    </tr>\n",
       "  </thead>\n",
       "  <tbody>\n",
       "    <tr>\n",
       "      <th>0</th>\n",
       "      <td>Tara</td>\n",
       "      <td>24.0</td>\n",
       "      <td>2000.0</td>\n",
       "      <td>Finance</td>\n",
       "    </tr>\n",
       "    <tr>\n",
       "      <th>1</th>\n",
       "      <td>Alice</td>\n",
       "      <td>33.0</td>\n",
       "      <td>NaN</td>\n",
       "      <td>NaN</td>\n",
       "    </tr>\n",
       "    <tr>\n",
       "      <th>2</th>\n",
       "      <td>Ali</td>\n",
       "      <td>NaN</td>\n",
       "      <td>3500.0</td>\n",
       "      <td>IT</td>\n",
       "    </tr>\n",
       "    <tr>\n",
       "      <th>3</th>\n",
       "      <td>Sara</td>\n",
       "      <td>19.0</td>\n",
       "      <td>4000.0</td>\n",
       "      <td>NaN</td>\n",
       "    </tr>\n",
       "    <tr>\n",
       "      <th>4</th>\n",
       "      <td>Fara</td>\n",
       "      <td>26.0</td>\n",
       "      <td>2700.0</td>\n",
       "      <td>IT</td>\n",
       "    </tr>\n",
       "  </tbody>\n",
       "</table>\n",
       "</div>"
      ],
      "text/plain": [
       "    Name   Age  Salary Department\n",
       "0   Tara  24.0  2000.0    Finance\n",
       "1  Alice  33.0     NaN        NaN\n",
       "2    Ali   NaN  3500.0         IT\n",
       "3   Sara  19.0  4000.0        NaN\n",
       "4   Fara  26.0  2700.0         IT"
      ]
     },
     "execution_count": 8,
     "metadata": {},
     "output_type": "execute_result"
    }
   ],
   "source": [
    "import pandas as pd\n",
    "import numpy as np\n",
    "from fuel-consumption-analysis import DataCleaning   # From my package import \"DataCleaning\" Class\n",
    "\n",
    "# create a sample dataframe\n",
    "data = pd.DataFrame(\n",
    "    {\"Name\": [\n",
    "        \"Tara\",\n",
    "        \"Alice\",\n",
    "        \"Ali\",\n",
    "        \"Sara\",\n",
    "        \"Fara\"\n",
    "    ],\n",
    "     \"Age\": [24, 33, np.nan, 19, 26],\n",
    "     \"Salary\": [2000, np.nan, 3500, 4000, 2700],\n",
    "     \"Department\": [\"Finance\", np.nan, \"IT\", np.nan, \"IT\"]\n",
    "    }\n",
    ")\n",
    "\n",
    "data\n",
    "\n",
    "#Count the number of missing values \n",
    "print(DataCleaning(data).missing_values())"
   ]
  },
  {
   "cell_type": "markdown",
   "id": "3cd214c7-d8b1-4cfb-abe5-b9dbfa1fba0a",
   "metadata": {},
   "source": [
    "#### Handling missing values\n",
    "+ Handling missing values is crucial to avoid biased results and incorrect conclusions.\n",
    "+ Methods for handling missing values:\n",
    "     + **Removing missing data:** If a column has too many missing values, it might be best to drop it out.\n",
    "     + **Replacing missing values:**\n",
    "          + *For categorical data*: Replace missing values with the most frequency category(mode).\n",
    "          + *For numerical data*: Replace missing value with the mean or median of corresponding columns.\n",
    "+ The `fuel-consumption-analysis` package uses the **replacing missing values** technique.\n",
    "+ Use the `replace_missing_values()` function to handle missing values."
   ]
  },
  {
   "cell_type": "code",
   "execution_count": null,
   "id": "05c85e96-4c6c-4918-8e69-8751b0a6f8f5",
   "metadata": {},
   "outputs": [],
   "source": [
    "data_whitout_missing_values = DataCleaning(data).replace_missing_values()   # Dataframe whitout missing values\n",
    "\n",
    "# Check to ensure no missing values remain\n",
    "print(DataCleaning(data_whitout_missing_values).missing_values())"
   ]
  },
  {
   "cell_type": "markdown",
   "id": "e2d82a88-32cd-44d1-ac78-8a3fa41d0b16",
   "metadata": {},
   "source": [
    "#### Finding duplicate rows\n",
    "+ Duplicate records can distort analysis results by over-representing certain values, leading to incorrect insights.\n",
    "+ Create and add a new row to the sample dataset, that is duplicate the 5th row.\n",
    "+ Use the`pd.concat()` to add a new row to the dataset. \n",
    "+ Check the duplicate rows in the dataset.\n",
    "+ Use the `find_duplicates()` function to show the duplicate rows.\n",
    "+ The result is a `DataFrame`."
   ]
  },
  {
   "cell_type": "code",
   "execution_count": null,
   "id": "16d2436b-42b1-4b0e-a293-08f2b37826c1",
   "metadata": {},
   "outputs": [],
   "source": [
    "# Find duplicate rows in sample dataset\n",
    "print(DataCleaning(data).find_duplicates())   # No duplicates\n",
    "\n",
    "new_row = pd.DataFrame({\"Name\": [\"Fara\"], \"Age\": [26], \"Salary\": [2700], \"Department\": [\"IT\"]})   # Create a new row\n",
    "new_data = pd.concat([data, new_row], ignore_index = True)   # add a new row to sample dataset\n",
    "print(new_data)\n",
    "\n",
    "# Find duplicate rows in new dataset contain duplicate\n",
    "print(DataCleaning(new_data).find_duplicates())"
   ]
  },
  {
   "cell_type": "markdown",
   "id": "3ec031dd-5f83-40ca-a1f1-73f7f3184c88",
   "metadata": {},
   "source": [
    "#### Removing duplicate rows\n",
    "+ Removing duplicates ensures that each observation in the dataset is unique and accurate.\n",
    "+ Use the `remove_duplicates()` function to remove duplicates in the dataset.\n",
    "+ The result is a `DataFrame`."
   ]
  },
  {
   "cell_type": "code",
   "execution_count": null,
   "id": "e26a2b74-fffa-48f5-a3c0-5c0dccf3604f",
   "metadata": {},
   "outputs": [],
   "source": [
    "data_whitout_duplicates = DataCleaning(new_data).remove_duplicates()\n",
    "\n",
    "# Check to ensure no duplicate rows remain\n",
    "print(DataCleaning(data_whitout_duplicates).find_duplicates())"
   ]
  },
  {
   "cell_type": "markdown",
   "id": "990d69f0-422a-4e46-94be-da409370cdd5",
   "metadata": {},
   "source": [
    "#### Data cleaning for the real dataset\n",
    "+ Load the **fuel consumption** dataset.\n",
    "+ Use the `pd.read_csv` to read dataset.\n",
    "+ Show dataset information:\n",
    "     + Use the `df.head(n = ...)` to show n rows of dataset.\n",
    "     + Use the `df.dtypes` to show the type of each column."
   ]
  },
  {
   "cell_type": "code",
   "execution_count": 16,
   "id": "9f26ca36-4c24-433a-9da0-18ddaf98f48a",
   "metadata": {},
   "outputs": [
    {
     "data": {
      "text/plain": [
       "Year                  int64\n",
       "MAKE                 object\n",
       "MODEL                object\n",
       "VEHICLE CLASS        object\n",
       "ENGINE SIZE         float64\n",
       "CYLINDERS             int64\n",
       "TRANSMISSION         object\n",
       "FUEL                 object\n",
       "FUEL CONSUMPTION    float64\n",
       "COEMISSIONS           int64\n",
       "dtype: object"
      ]
     },
     "execution_count": 16,
     "metadata": {},
     "output_type": "execute_result"
    }
   ],
   "source": [
    "dataset = pd.read_csv(\"C:/Users/taher/Desktop/TU Dortmund/Courses/fuel consumption.zip\")\n",
    "dataset.head(n = 7)   # Displaythe dataset\n",
    "dataset.dtypes    # Display the type of each column"
   ]
  },
  {
   "cell_type": "code",
   "execution_count": null,
   "id": "37470f88-50ab-48f3-b502-2bb73760a0d6",
   "metadata": {},
   "outputs": [],
   "source": [
    "print(DataCleaning(dataset).missing_values())  # Check missing values\n",
    "\n",
    "cleaned_data = DataCleaning(dataset).replace_missing_values()  # Handle missing values\n",
    "\n",
    "print(DataCleaning(cleaned_data).find_duplicates())   # Ckeck duplicate rows\n",
    "\n",
    "cleaned_data = DataCleaning(cleaned_data).duplicates()  # Remove duplicates\n",
    "\n",
    "print(cleaned_data.head())  # Display cleaned dataset"
   ]
  },
  {
   "cell_type": "markdown",
   "id": "abe816a0-4b80-4321-a941-01f54dac2c00",
   "metadata": {},
   "source": [
    "#### Data analysis"
   ]
  }
 ],
 "metadata": {
  "kernelspec": {
   "display_name": "Python 3 (ipykernel)",
   "language": "python",
   "name": "python3"
  },
  "language_info": {
   "codemirror_mode": {
    "name": "ipython",
    "version": 3
   },
   "file_extension": ".py",
   "mimetype": "text/x-python",
   "name": "python",
   "nbconvert_exporter": "python",
   "pygments_lexer": "ipython3",
   "version": "3.9.21"
  }
 },
 "nbformat": 4,
 "nbformat_minor": 5
}

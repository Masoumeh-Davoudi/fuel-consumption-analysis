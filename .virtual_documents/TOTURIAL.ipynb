








import pandas as pd
import numpy as np
from fuel_consumption_analysis.data_cleaning import DataCleaning   # From my package import "DataCleaning" Class

# create a sample dataframe
data = pd.DataFrame(
    {"Name": [
        "Tara",
        "Alice",
        "Ali",
        "Sara",
        "Fara"
    ],
     "Age": [24, 33, np.nan, 19, 26],
     "Salary": [2000, np.nan, 3500, 4000, 2700],
     "Department": ["Finance", np.nan, "IT", np.nan, "IT"]
    }
)

data

#Count the number of missing values 
print(DataCleaning(data).missing_values())





data_whitout_missing_values = DataCleaning(data).replace_missing_values()   # Dataframe whitout missing values

# Check to ensure no missing values remain
print(DataCleaning(data_whitout_missing_values).missing_values())





# Find duplicate rows in sample dataset
print(DataCleaning(data).find_duplicates())   # No duplicates

new_row = pd.DataFrame({"Name": ["Fara"], "Age": [26], "Salary": [2700], "Department": ["IT"]})   # Create a new row
new_data = pd.concat([data, new_row], ignore_index = True)   # add a new row to sample dataset
print(new_data)

# Find duplicate rows in new dataset contain duplicate
print(DataCleaning(new_data).find_duplicates())





data_whitout_duplicates = DataCleaning(new_data).remove_duplicates()

# Check to ensure no duplicate rows remain
print(DataCleaning(data_whitout_duplicates).find_duplicates())





dataset = pd.read_csv("D:/TU-Dortmund/intro-python/FuelConsumption.csv")
dataset.head(n = 7)   # Displaythe dataset
dataset.dtypes    # Display the type of each column


print(DataCleaning(dataset).missing_values())  # Check missing values

cleaned_data = DataCleaning(dataset).replace_missing_values()  # Handle missing values

print(DataCleaning(cleaned_data).find_duplicates())   # Ckeck duplicate rows

cleaned_data = DataCleaning(cleaned_data).remove_duplicates()  # Remove duplicates

print(cleaned_data.head())  # Display cleaned dataset








from fuel_consumption_analysis.data_analysis import DataAnalysis

# Use the sample dataframe
print(DataAnalysis(data_whitout_missing_values).statistical_description())





DataAnalysis(data_whitout_missing_values).correlation_matrix()





# Compute descriptive statistics
print(DataAnalysis(cleaned_data).statistical_description())

# Visualize correlation matrix
DataAnalysis(cleaned_data).correlation_matrix()








from fuel_consumption_analysis.data_visualization import DataVisualization
viz= DataVisualization(cleaned_data)






viz.scatter_plot("ENGINE SIZE", "FUEL CONSUMPTION", "MAKE")



viz.bar_plot("FUEL","COEMISSIONS ","VEHICLE CLASS")





viz.box_plot("VEHICLE CLASS", "FUEL CONSUMPTION")





viz.histogram_plot("COEMISSIONS ")





viz.heat_map_plot()


viz.count_plot("TRANSMISSION")
